{
 "cells": [
  {
   "cell_type": "code",
   "execution_count": 1,
   "id": "60152029",
   "metadata": {
    "_cell_guid": "b1076dfc-b9ad-4769-8c92-a6c4dae69d19",
    "_uuid": "8f2839f25d086af736a60e9eeb907d3b93b6e0e5",
    "execution": {
     "iopub.execute_input": "2025-05-08T01:49:51.539429Z",
     "iopub.status.busy": "2025-05-08T01:49:51.539103Z",
     "iopub.status.idle": "2025-05-08T01:49:52.871712Z",
     "shell.execute_reply": "2025-05-08T01:49:52.870902Z"
    },
    "papermill": {
     "duration": 1.337771,
     "end_time": "2025-05-08T01:49:52.873030",
     "exception": false,
     "start_time": "2025-05-08T01:49:51.535259",
     "status": "completed"
    },
    "tags": []
   },
   "outputs": [
    {
     "name": "stdout",
     "output_type": "stream",
     "text": [
      "/kaggle/input/nlp-getting-started/sample_submission.csv\n",
      "/kaggle/input/nlp-getting-started/train.csv\n",
      "/kaggle/input/nlp-getting-started/test.csv\n"
     ]
    }
   ],
   "source": [
    "# This Python 3 environment comes with many helpful analytics libraries installed\n",
    "# It is defined by the kaggle/python Docker image: https://github.com/kaggle/docker-python\n",
    "# For example, here's several helpful packages to load\n",
    "\n",
    "import numpy as np # linear algebra\n",
    "import pandas as pd # data processing, CSV file I/O (e.g. pd.read_csv)\n",
    "\n",
    "# Input data files are available in the read-only \"../input/\" directory\n",
    "# For example, running this (by clicking run or pressing Shift+Enter) will list all files under the input directory\n",
    "\n",
    "import os\n",
    "for dirname, _, filenames in os.walk('/kaggle/input/nlp-getting-started'):\n",
    "    for filename in filenames:\n",
    "        print(os.path.join(dirname, filename))\n",
    "\n",
    "# You can write up to 20GB to the current directory (/kaggle/working/) that gets preserved as output when you create a version using \"Save & Run All\" \n",
    "# You can also write temporary files to /kaggle/temp/, but they won't be saved outside of the current session"
   ]
  },
  {
   "cell_type": "markdown",
   "id": "e48ef472",
   "metadata": {
    "papermill": {
     "duration": 0.002414,
     "end_time": "2025-05-08T01:49:52.878474",
     "exception": false,
     "start_time": "2025-05-08T01:49:52.876060",
     "status": "completed"
    },
    "tags": []
   },
   "source": [
    "LEITURA DE ARQUIVOS"
   ]
  },
  {
   "cell_type": "code",
   "execution_count": 2,
   "id": "ad68eaf5",
   "metadata": {
    "execution": {
     "iopub.execute_input": "2025-05-08T01:49:52.884200Z",
     "iopub.status.busy": "2025-05-08T01:49:52.883642Z",
     "iopub.status.idle": "2025-05-08T01:49:52.961714Z",
     "shell.execute_reply": "2025-05-08T01:49:52.961193Z"
    },
    "papermill": {
     "duration": 0.082091,
     "end_time": "2025-05-08T01:49:52.962882",
     "exception": false,
     "start_time": "2025-05-08T01:49:52.880791",
     "status": "completed"
    },
    "tags": []
   },
   "outputs": [],
   "source": [
    "submission = pd.read_csv('/kaggle/input/nlp-getting-started/sample_submission.csv')\n",
    "train = pd.read_csv('/kaggle/input/nlp-getting-started/train.csv')\n",
    "test = pd.read_csv('/kaggle/input/nlp-getting-started/test.csv')"
   ]
  },
  {
   "cell_type": "code",
   "execution_count": 3,
   "id": "95c4fbe1",
   "metadata": {
    "execution": {
     "iopub.execute_input": "2025-05-08T01:49:52.968611Z",
     "iopub.status.busy": "2025-05-08T01:49:52.968176Z",
     "iopub.status.idle": "2025-05-08T01:49:52.971545Z",
     "shell.execute_reply": "2025-05-08T01:49:52.971013Z"
    },
    "papermill": {
     "duration": 0.007116,
     "end_time": "2025-05-08T01:49:52.972526",
     "exception": false,
     "start_time": "2025-05-08T01:49:52.965410",
     "status": "completed"
    },
    "tags": []
   },
   "outputs": [],
   "source": [
    "submission_df = pd.DataFrame(submission)\n",
    "train_df = pd.DataFrame(train)\n",
    "test_df = pd.DataFrame(test)"
   ]
  },
  {
   "cell_type": "markdown",
   "id": "5db83035",
   "metadata": {
    "papermill": {
     "duration": 0.002081,
     "end_time": "2025-05-08T01:49:52.976851",
     "exception": false,
     "start_time": "2025-05-08T01:49:52.974770",
     "status": "completed"
    },
    "tags": []
   },
   "source": [
    "ANÁLISES SUPERFICIAIS"
   ]
  },
  {
   "cell_type": "code",
   "execution_count": 4,
   "id": "f4f956d1",
   "metadata": {
    "execution": {
     "iopub.execute_input": "2025-05-08T01:49:52.983164Z",
     "iopub.status.busy": "2025-05-08T01:49:52.982760Z",
     "iopub.status.idle": "2025-05-08T01:49:52.987414Z",
     "shell.execute_reply": "2025-05-08T01:49:52.986896Z"
    },
    "papermill": {
     "duration": 0.009449,
     "end_time": "2025-05-08T01:49:52.988478",
     "exception": false,
     "start_time": "2025-05-08T01:49:52.979029",
     "status": "completed"
    },
    "tags": []
   },
   "outputs": [
    {
     "data": {
      "text/plain": [
       "(7613, 5)"
      ]
     },
     "execution_count": 4,
     "metadata": {},
     "output_type": "execute_result"
    }
   ],
   "source": [
    "train.shape"
   ]
  },
  {
   "cell_type": "code",
   "execution_count": 5,
   "id": "cffbabff",
   "metadata": {
    "execution": {
     "iopub.execute_input": "2025-05-08T01:49:52.994049Z",
     "iopub.status.busy": "2025-05-08T01:49:52.993647Z",
     "iopub.status.idle": "2025-05-08T01:49:53.011172Z",
     "shell.execute_reply": "2025-05-08T01:49:53.010649Z"
    },
    "papermill": {
     "duration": 0.021322,
     "end_time": "2025-05-08T01:49:53.012128",
     "exception": false,
     "start_time": "2025-05-08T01:49:52.990806",
     "status": "completed"
    },
    "tags": []
   },
   "outputs": [
    {
     "data": {
      "text/html": [
       "<div>\n",
       "<style scoped>\n",
       "    .dataframe tbody tr th:only-of-type {\n",
       "        vertical-align: middle;\n",
       "    }\n",
       "\n",
       "    .dataframe tbody tr th {\n",
       "        vertical-align: top;\n",
       "    }\n",
       "\n",
       "    .dataframe thead th {\n",
       "        text-align: right;\n",
       "    }\n",
       "</style>\n",
       "<table border=\"1\" class=\"dataframe\">\n",
       "  <thead>\n",
       "    <tr style=\"text-align: right;\">\n",
       "      <th></th>\n",
       "      <th>id</th>\n",
       "      <th>keyword</th>\n",
       "      <th>location</th>\n",
       "      <th>text</th>\n",
       "      <th>target</th>\n",
       "    </tr>\n",
       "  </thead>\n",
       "  <tbody>\n",
       "    <tr>\n",
       "      <th>0</th>\n",
       "      <td>1</td>\n",
       "      <td>NaN</td>\n",
       "      <td>NaN</td>\n",
       "      <td>Our Deeds are the Reason of this #earthquake M...</td>\n",
       "      <td>1</td>\n",
       "    </tr>\n",
       "    <tr>\n",
       "      <th>1</th>\n",
       "      <td>4</td>\n",
       "      <td>NaN</td>\n",
       "      <td>NaN</td>\n",
       "      <td>Forest fire near La Ronge Sask. Canada</td>\n",
       "      <td>1</td>\n",
       "    </tr>\n",
       "    <tr>\n",
       "      <th>2</th>\n",
       "      <td>5</td>\n",
       "      <td>NaN</td>\n",
       "      <td>NaN</td>\n",
       "      <td>All residents asked to 'shelter in place' are ...</td>\n",
       "      <td>1</td>\n",
       "    </tr>\n",
       "  </tbody>\n",
       "</table>\n",
       "</div>"
      ],
      "text/plain": [
       "   id keyword location                                               text  \\\n",
       "0   1     NaN      NaN  Our Deeds are the Reason of this #earthquake M...   \n",
       "1   4     NaN      NaN             Forest fire near La Ronge Sask. Canada   \n",
       "2   5     NaN      NaN  All residents asked to 'shelter in place' are ...   \n",
       "\n",
       "   target  \n",
       "0       1  \n",
       "1       1  \n",
       "2       1  "
      ]
     },
     "execution_count": 5,
     "metadata": {},
     "output_type": "execute_result"
    }
   ],
   "source": [
    "train.head(3)"
   ]
  },
  {
   "cell_type": "code",
   "execution_count": 6,
   "id": "ca43a127",
   "metadata": {
    "execution": {
     "iopub.execute_input": "2025-05-08T01:49:53.017848Z",
     "iopub.status.busy": "2025-05-08T01:49:53.017505Z",
     "iopub.status.idle": "2025-05-08T01:49:53.022639Z",
     "shell.execute_reply": "2025-05-08T01:49:53.021981Z"
    },
    "papermill": {
     "duration": 0.009027,
     "end_time": "2025-05-08T01:49:53.023663",
     "exception": false,
     "start_time": "2025-05-08T01:49:53.014636",
     "status": "completed"
    },
    "tags": []
   },
   "outputs": [
    {
     "data": {
      "text/plain": [
       "Index(['id', 'keyword', 'location', 'text'], dtype='object')"
      ]
     },
     "execution_count": 6,
     "metadata": {},
     "output_type": "execute_result"
    }
   ],
   "source": [
    "test.columns"
   ]
  },
  {
   "cell_type": "code",
   "execution_count": 7,
   "id": "faae71de",
   "metadata": {
    "execution": {
     "iopub.execute_input": "2025-05-08T01:49:53.029271Z",
     "iopub.status.busy": "2025-05-08T01:49:53.028983Z",
     "iopub.status.idle": "2025-05-08T01:49:53.032987Z",
     "shell.execute_reply": "2025-05-08T01:49:53.032367Z"
    },
    "papermill": {
     "duration": 0.007843,
     "end_time": "2025-05-08T01:49:53.033962",
     "exception": false,
     "start_time": "2025-05-08T01:49:53.026119",
     "status": "completed"
    },
    "tags": []
   },
   "outputs": [
    {
     "data": {
      "text/plain": [
       "Index(['id', 'target'], dtype='object')"
      ]
     },
     "execution_count": 7,
     "metadata": {},
     "output_type": "execute_result"
    }
   ],
   "source": [
    "submission.columns"
   ]
  },
  {
   "cell_type": "markdown",
   "id": "887d1e7e",
   "metadata": {
    "papermill": {
     "duration": 0.002425,
     "end_time": "2025-05-08T01:49:53.038939",
     "exception": false,
     "start_time": "2025-05-08T01:49:53.036514",
     "status": "completed"
    },
    "tags": []
   },
   "source": [
    "LIMPEZA DOS CARACTERES ESPECIAIS DA COLUNA 'text'"
   ]
  },
  {
   "cell_type": "markdown",
   "id": "089329a6",
   "metadata": {
    "papermill": {
     "duration": 0.002349,
     "end_time": "2025-05-08T01:49:53.043767",
     "exception": false,
     "start_time": "2025-05-08T01:49:53.041418",
     "status": "completed"
    },
    "tags": []
   },
   "source": [
    "criando a função de limpeza da coluna mensagem"
   ]
  },
  {
   "cell_type": "code",
   "execution_count": 8,
   "id": "da020c37",
   "metadata": {
    "execution": {
     "iopub.execute_input": "2025-05-08T01:49:53.049594Z",
     "iopub.status.busy": "2025-05-08T01:49:53.049398Z",
     "iopub.status.idle": "2025-05-08T01:50:26.689111Z",
     "shell.execute_reply": "2025-05-08T01:50:26.688484Z"
    },
    "papermill": {
     "duration": 33.647048,
     "end_time": "2025-05-08T01:50:26.693354",
     "exception": false,
     "start_time": "2025-05-08T01:49:53.046306",
     "status": "completed"
    },
    "tags": []
   },
   "outputs": [
    {
     "name": "stderr",
     "output_type": "stream",
     "text": [
      "[nltk_data] Error loading stopwords: <urlopen error [Errno -3]\n",
      "[nltk_data]     Temporary failure in name resolution>\n"
     ]
    },
    {
     "data": {
      "text/plain": [
       "'Além de tirar os caracteres especiais e os números é implementada a função .lower() para padronizar'"
      ]
     },
     "execution_count": 8,
     "metadata": {},
     "output_type": "execute_result"
    }
   ],
   "source": [
    "import re\n",
    "import nltk\n",
    "from nltk.corpus import stopwords\n",
    "import string\n",
    "\n",
    "nltk.download('stopwords')\n",
    "\n",
    "stop_words = set(stopwords.words('english'))\n",
    "\n",
    "\n",
    "\n",
    "\n",
    "def clean_text(mensage):\n",
    "    \n",
    "    mensage = str(mensage).lower()\n",
    "    mensage = re.sub('\\[.*?\\]', '', mensage)\n",
    "    mensage = re.sub('https?://\\S+|www\\.\\S+', '', mensage)\n",
    "    mensage = re.sub('<.*?>+', '', mensage)\n",
    "    mensage = re.sub('[%s]' % re.escape(string.punctuation), '', mensage)\n",
    "    mensage = re.sub('\\n', '', mensage)\n",
    "    mensage = re.sub('\\w*\\d\\w*', '', mensage)\n",
    "    return mensage\n",
    "\n",
    "\"\"\"Além de tirar os caracteres especiais e os números é implementada a função .lower() para padronizar\"\"\""
   ]
  },
  {
   "cell_type": "code",
   "execution_count": 9,
   "id": "dbc40832",
   "metadata": {
    "execution": {
     "iopub.execute_input": "2025-05-08T01:50:26.699702Z",
     "iopub.status.busy": "2025-05-08T01:50:26.699359Z",
     "iopub.status.idle": "2025-05-08T01:50:26.917030Z",
     "shell.execute_reply": "2025-05-08T01:50:26.916459Z"
    },
    "papermill": {
     "duration": 0.222036,
     "end_time": "2025-05-08T01:50:26.918075",
     "exception": false,
     "start_time": "2025-05-08T01:50:26.696039",
     "status": "completed"
    },
    "tags": []
   },
   "outputs": [
    {
     "data": {
      "text/html": [
       "<div>\n",
       "<style scoped>\n",
       "    .dataframe tbody tr th:only-of-type {\n",
       "        vertical-align: middle;\n",
       "    }\n",
       "\n",
       "    .dataframe tbody tr th {\n",
       "        vertical-align: top;\n",
       "    }\n",
       "\n",
       "    .dataframe thead th {\n",
       "        text-align: right;\n",
       "    }\n",
       "</style>\n",
       "<table border=\"1\" class=\"dataframe\">\n",
       "  <thead>\n",
       "    <tr style=\"text-align: right;\">\n",
       "      <th></th>\n",
       "      <th>id</th>\n",
       "      <th>keyword</th>\n",
       "      <th>location</th>\n",
       "      <th>text</th>\n",
       "      <th>target</th>\n",
       "    </tr>\n",
       "  </thead>\n",
       "  <tbody>\n",
       "    <tr>\n",
       "      <th>0</th>\n",
       "      <td>1</td>\n",
       "      <td>NaN</td>\n",
       "      <td>NaN</td>\n",
       "      <td>our deeds are the reason of this earthquake ma...</td>\n",
       "      <td>1</td>\n",
       "    </tr>\n",
       "    <tr>\n",
       "      <th>1</th>\n",
       "      <td>4</td>\n",
       "      <td>NaN</td>\n",
       "      <td>NaN</td>\n",
       "      <td>forest fire near la ronge sask canada</td>\n",
       "      <td>1</td>\n",
       "    </tr>\n",
       "    <tr>\n",
       "      <th>2</th>\n",
       "      <td>5</td>\n",
       "      <td>NaN</td>\n",
       "      <td>NaN</td>\n",
       "      <td>all residents asked to shelter in place are be...</td>\n",
       "      <td>1</td>\n",
       "    </tr>\n",
       "  </tbody>\n",
       "</table>\n",
       "</div>"
      ],
      "text/plain": [
       "   id keyword location                                               text  \\\n",
       "0   1     NaN      NaN  our deeds are the reason of this earthquake ma...   \n",
       "1   4     NaN      NaN              forest fire near la ronge sask canada   \n",
       "2   5     NaN      NaN  all residents asked to shelter in place are be...   \n",
       "\n",
       "   target  \n",
       "0       1  \n",
       "1       1  \n",
       "2       1  "
      ]
     },
     "execution_count": 9,
     "metadata": {},
     "output_type": "execute_result"
    }
   ],
   "source": [
    "train_df['text'] = train_df['text'].apply(clean_text)\n",
    "test_df['text'] = test_df['text'].apply(clean_text)\n",
    "\n",
    "train_df.head(3)"
   ]
  },
  {
   "cell_type": "markdown",
   "id": "39a8fc6d",
   "metadata": {
    "papermill": {
     "duration": 0.00269,
     "end_time": "2025-05-08T01:50:26.924129",
     "exception": false,
     "start_time": "2025-05-08T01:50:26.921439",
     "status": "completed"
    },
    "tags": []
   },
   "source": [
    "TIRANDO PALAVRAS COMUNS SEM IMPORTANCIA COMO OS ARTIGOS (STOP_WORDS)"
   ]
  },
  {
   "cell_type": "code",
   "execution_count": 10,
   "id": "7554c143",
   "metadata": {
    "execution": {
     "iopub.execute_input": "2025-05-08T01:50:26.930369Z",
     "iopub.status.busy": "2025-05-08T01:50:26.930115Z",
     "iopub.status.idle": "2025-05-08T01:50:27.154916Z",
     "shell.execute_reply": "2025-05-08T01:50:27.154182Z"
    },
    "papermill": {
     "duration": 0.229281,
     "end_time": "2025-05-08T01:50:27.156142",
     "exception": false,
     "start_time": "2025-05-08T01:50:26.926861",
     "status": "completed"
    },
    "tags": []
   },
   "outputs": [
    {
     "data": {
      "text/html": [
       "<div>\n",
       "<style scoped>\n",
       "    .dataframe tbody tr th:only-of-type {\n",
       "        vertical-align: middle;\n",
       "    }\n",
       "\n",
       "    .dataframe tbody tr th {\n",
       "        vertical-align: top;\n",
       "    }\n",
       "\n",
       "    .dataframe thead th {\n",
       "        text-align: right;\n",
       "    }\n",
       "</style>\n",
       "<table border=\"1\" class=\"dataframe\">\n",
       "  <thead>\n",
       "    <tr style=\"text-align: right;\">\n",
       "      <th></th>\n",
       "      <th>id</th>\n",
       "      <th>keyword</th>\n",
       "      <th>location</th>\n",
       "      <th>text</th>\n",
       "      <th>target</th>\n",
       "    </tr>\n",
       "  </thead>\n",
       "  <tbody>\n",
       "    <tr>\n",
       "      <th>0</th>\n",
       "      <td>1</td>\n",
       "      <td>NaN</td>\n",
       "      <td>NaN</td>\n",
       "      <td>deeds reason earthquake may allah forgive us</td>\n",
       "      <td>1</td>\n",
       "    </tr>\n",
       "    <tr>\n",
       "      <th>1</th>\n",
       "      <td>4</td>\n",
       "      <td>NaN</td>\n",
       "      <td>NaN</td>\n",
       "      <td>forest fire near la ronge sask canada</td>\n",
       "      <td>1</td>\n",
       "    </tr>\n",
       "    <tr>\n",
       "      <th>2</th>\n",
       "      <td>5</td>\n",
       "      <td>NaN</td>\n",
       "      <td>NaN</td>\n",
       "      <td>residents asked shelter place notified officer...</td>\n",
       "      <td>1</td>\n",
       "    </tr>\n",
       "    <tr>\n",
       "      <th>3</th>\n",
       "      <td>6</td>\n",
       "      <td>NaN</td>\n",
       "      <td>NaN</td>\n",
       "      <td>people receive wildfires evacuation orders ca...</td>\n",
       "      <td>1</td>\n",
       "    </tr>\n",
       "    <tr>\n",
       "      <th>4</th>\n",
       "      <td>7</td>\n",
       "      <td>NaN</td>\n",
       "      <td>NaN</td>\n",
       "      <td>got sent photo ruby alaska smoke wildfires pou...</td>\n",
       "      <td>1</td>\n",
       "    </tr>\n",
       "  </tbody>\n",
       "</table>\n",
       "</div>"
      ],
      "text/plain": [
       "   id keyword location                                               text  \\\n",
       "0   1     NaN      NaN       deeds reason earthquake may allah forgive us   \n",
       "1   4     NaN      NaN              forest fire near la ronge sask canada   \n",
       "2   5     NaN      NaN  residents asked shelter place notified officer...   \n",
       "3   6     NaN      NaN   people receive wildfires evacuation orders ca...   \n",
       "4   7     NaN      NaN  got sent photo ruby alaska smoke wildfires pou...   \n",
       "\n",
       "   target  \n",
       "0       1  \n",
       "1       1  \n",
       "2       1  \n",
       "3       1  \n",
       "4       1  "
      ]
     },
     "execution_count": 10,
     "metadata": {},
     "output_type": "execute_result"
    }
   ],
   "source": [
    "stop_words = stopwords.words('english')\n",
    "more_stopwords = ['u', 'im', 'c']\n",
    "stop_words = stop_words + more_stopwords\n",
    "\n",
    "def remove_stopwords(mensage):\n",
    "    mensage = ' '.join(word for word in mensage.split(' ') if word not in stop_words)\n",
    "    return mensage\n",
    "    \n",
    "train_df['text'] = train_df['text'].apply(remove_stopwords)\n",
    "train_df.head()"
   ]
  }
 ],
 "metadata": {
  "kaggle": {
   "accelerator": "gpu",
   "dataSources": [
    {
     "databundleVersionId": 869809,
     "sourceId": 17777,
     "sourceType": "competition"
    }
   ],
   "dockerImageVersionId": 31011,
   "isGpuEnabled": true,
   "isInternetEnabled": false,
   "language": "python",
   "sourceType": "notebook"
  },
  "kernelspec": {
   "display_name": "Python 3",
   "language": "python",
   "name": "python3"
  },
  "language_info": {
   "codemirror_mode": {
    "name": "ipython",
    "version": 3
   },
   "file_extension": ".py",
   "mimetype": "text/x-python",
   "name": "python",
   "nbconvert_exporter": "python",
   "pygments_lexer": "ipython3",
   "version": "3.11.11"
  },
  "papermill": {
   "default_parameters": {},
   "duration": 40.063083,
   "end_time": "2025-05-08T01:50:27.676213",
   "environment_variables": {},
   "exception": null,
   "input_path": "__notebook__.ipynb",
   "output_path": "__notebook__.ipynb",
   "parameters": {},
   "start_time": "2025-05-08T01:49:47.613130",
   "version": "2.6.0"
  }
 },
 "nbformat": 4,
 "nbformat_minor": 5
}
